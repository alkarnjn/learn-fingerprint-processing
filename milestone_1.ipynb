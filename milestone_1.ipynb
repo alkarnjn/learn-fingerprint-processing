{
 "cells": [
  {
   "attachments": {},
   "cell_type": "markdown",
   "metadata": {},
   "source": [
    "# **Milestone 1 - Basics**"
   ]
  },
  {
   "attachments": {},
   "cell_type": "markdown",
   "metadata": {},
   "source": [
    "This section contains tasks that will help you get familiar with the basics of image processing.\n",
    "\n",
    "You may add more code and markdown cells as needed"
   ]
  },
  {
   "attachments": {},
   "cell_type": "markdown",
   "metadata": {},
   "source": [
    "## TASK 1\n",
    "* Load a 512x512 image\n",
    "* Initialize with random rgb values \n",
    "* Display it"
   ]
  },
  {
   "attachments": {},
   "cell_type": "markdown",
   "metadata": {},
   "source": [
    "#### Importing the libraries"
   ]
  },
  {
   "cell_type": "code",
   "execution_count": 19,
   "metadata": {},
   "outputs": [],
   "source": [
    "## Hint:load opencv and numpy\n",
    "import cv2 as cv\n",
    "import matplotlib.pyplot as plt\n",
    "import numpy as np\n",
    "from numpy import array\n",
    "# from skimage.morphology import skeletonize\n",
    "# img=cv.imread('101_1.tif')\n",
    "# print(img)\n"
   ]
  },
  {
   "attachments": {},
   "cell_type": "markdown",
   "metadata": {},
   "source": [
    "#### Define the variables to store a 3d matrix for the image"
   ]
  },
  {
   "cell_type": "code",
   "execution_count": 31,
   "metadata": {},
   "outputs": [
    {
     "name": "stdout",
     "output_type": "stream",
     "text": [
      "[[[0.12941176 0.62745098 0.8745098 ]\n",
      "  [0.99607843 0.8745098  0.47058824]\n",
      "  [0.23529412 0.2627451  0.96078431]\n",
      "  ...\n",
      "  [0.55686275 0.61568627 0.69803922]\n",
      "  [0.66666667 0.14117647 0.56078431]\n",
      "  [0.31372549 0.62745098 0.16862745]]\n",
      "\n",
      " [[0.65882353 0.67843137 0.89019608]\n",
      "  [0.36470588 0.48235294 0.34117647]\n",
      "  [0.81568627 0.16078431 0.50980392]\n",
      "  ...\n",
      "  [0.81960784 0.43529412 0.81960784]\n",
      "  [0.14509804 0.61568627 0.56078431]\n",
      "  [0.4627451  0.63137255 0.73333333]]\n",
      "\n",
      " [[0.84705882 0.22745098 0.74117647]\n",
      "  [0.9254902  0.82745098 0.45882353]\n",
      "  [0.0745098  0.61568627 0.50196078]\n",
      "  ...\n",
      "  [0.05490196 0.49019608 0.92941176]\n",
      "  [0.65490196 0.99607843 0.38823529]\n",
      "  [0.48235294 0.36078431 0.19607843]]\n",
      "\n",
      " ...\n",
      "\n",
      " [[0.4        0.27058824 0.11764706]\n",
      "  [0.01176471 0.53333333 0.2745098 ]\n",
      "  [0.70196078 0.03137255 0.62352941]\n",
      "  ...\n",
      "  [0.97647059 0.51372549 0.48235294]\n",
      "  [0.70588235 0.80392157 0.2       ]\n",
      "  [0.45098039 0.51372549 0.21568627]]\n",
      "\n",
      " [[0.10588235 0.01960784 0.10980392]\n",
      "  [0.80392157 0.71372549 0.36078431]\n",
      "  [0.44313725 0.5372549  0.74901961]\n",
      "  ...\n",
      "  [0.54117647 0.59607843 0.10588235]\n",
      "  [0.84313725 0.21960784 0.15294118]\n",
      "  [0.84313725 0.7372549  0.98431373]]\n",
      "\n",
      " [[0.80392157 0.07058824 0.03137255]\n",
      "  [0.59607843 0.67843137 0.65098039]\n",
      "  [0.08235294 0.78039216 0.23921569]\n",
      "  ...\n",
      "  [0.37254902 0.81960784 0.04705882]\n",
      "  [0.19215686 0.         0.64313725]\n",
      "  [0.60784314 0.3372549  0.40784314]]]\n"
     ]
    }
   ],
   "source": [
    "## Hint: use numpy\n",
    "import numpy as np\n",
    "S=np.random.randint(0, 255, size=(20, 20,3))\n",
    "S=np.asarray(S)/255\n",
    "\n",
    "print(S)"
   ]
  },
  {
   "attachments": {},
   "cell_type": "markdown",
   "metadata": {},
   "source": [
    "#### Initialize the matrix with random rgb values\n",
    "\n"
   ]
  },
  {
   "cell_type": "code",
   "execution_count": null,
   "metadata": {},
   "outputs": [],
   "source": [
    "## Hint: use random package\n",
    "S\n"
   ]
  },
  {
   "attachments": {},
   "cell_type": "markdown",
   "metadata": {},
   "source": [
    "#### Display the random image"
   ]
  },
  {
   "cell_type": "code",
   "execution_count": 25,
   "metadata": {},
   "outputs": [
    {
     "data": {
      "text/plain": [
       "<matplotlib.image.AxesImage at 0x7fb388ddcee0>"
      ]
     },
     "execution_count": 25,
     "metadata": {},
     "output_type": "execute_result"
    },
    {
     "data": {
      "image/png": "[encoded data removed]",
      "text/plain": [
       "<Figure size 640x480 with 1 Axes>"
      ]
     },
     "metadata": {},
     "output_type": "display_data"
    }
   ],
   "source": [
    "## Hint: use matplotlib\n",
    "plt.imshow(S)\n"
   ]
  },
  {
   "attachments": {},
   "cell_type": "markdown",
   "metadata": {},
   "source": [
    "## TASK 2\n",
    "\n",
    "* Load a 512x512 image\n",
    "* Initialize with random rgb values \n",
    "* Tranform the image into a grayscale image\n",
    "* Display it"
   ]
  },
  {
   "attachments": {},
   "cell_type": "markdown",
   "metadata": {},
   "source": [
    "#### Convert `TASK 1` Image to corresponding grayscale image \n",
    "(without using any inbuilt function of `opencv`)"
   ]
  },
  {
   "cell_type": "code",
   "execution_count": null,
   "metadata": {},
   "outputs": [],
   "source": [
    "## Hint: use the variable from TASK 1\n",
    "\n",
    "\n"
   ]
  },
  {
   "attachments": {},
   "cell_type": "markdown",
   "metadata": {},
   "source": [
    "#### Display the grayscale image"
   ]
  },
  {
   "cell_type": "code",
   "execution_count": null,
   "metadata": {},
   "outputs": [],
   "source": [
    "## Hint: use matplotlib\n",
    "\n"
   ]
  },
  {
   "attachments": {},
   "cell_type": "markdown",
   "metadata": {},
   "source": [
    "## TASK 3\n",
    "* Load the Fingerprint Image `datasets\\task3\\1.tiff`\n",
    "* Display it\n",
    "* Load the Fingerprint Image `datasets\\task3\\2.tiff`\n",
    "* Display it"
   ]
  },
  {
   "attachments": {},
   "cell_type": "markdown",
   "metadata": {},
   "source": [
    "#### Load the Fingerprint Image `datasets\\task3\\1.tiff`"
   ]
  },
  {
   "cell_type": "code",
   "execution_count": null,
   "metadata": {},
   "outputs": [],
   "source": [
    "## Hint: use opencv\n",
    "\n"
   ]
  },
  {
   "attachments": {},
   "cell_type": "markdown",
   "metadata": {},
   "source": [
    "#### Display the First Fingerprint image"
   ]
  },
  {
   "cell_type": "code",
   "execution_count": null,
   "metadata": {},
   "outputs": [],
   "source": [
    "## Hint: use matplotlib\n",
    "\n"
   ]
  },
  {
   "attachments": {},
   "cell_type": "markdown",
   "metadata": {},
   "source": [
    "#### Load the Fingerprint Image `datasets\\task3\\2.tiff`"
   ]
  },
  {
   "cell_type": "code",
   "execution_count": null,
   "metadata": {},
   "outputs": [],
   "source": [
    "## Hint: use opencv\n",
    "\n"
   ]
  },
  {
   "attachments": {},
   "cell_type": "markdown",
   "metadata": {},
   "source": [
    "#### Display the Second Fingerprint image"
   ]
  },
  {
   "cell_type": "code",
   "execution_count": null,
   "metadata": {},
   "outputs": [],
   "source": [
    "## Hint: use matplotlib\n",
    "\n"
   ]
  }
 ],
 "metadata": {
  "kernelspec": {
   "display_name": "basic",
   "language": "python",
   "name": "python3"
  },
  "language_info": {
   "codemirror_mode": {
    "name": "ipython",
    "version": 3
   },
   "file_extension": ".py",
   "mimetype": "text/x-python",
   "name": "python",
   "nbconvert_exporter": "python",
   "pygments_lexer": "ipython3",
   "version": "3.10.9"
  },
  "orig_nbformat": 4,
  "vscode": {
   "interpreter": {
    "hash": "33197e041f6bf3acc7fe1fe04eb896fd584a1fa0be0f5ae8bebb897b79cf016f"
   }
  }
 },
 "nbformat": 4,
 "nbformat_minor": 2
}
